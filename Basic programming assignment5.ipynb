{
 "cells": [
  {
   "cell_type": "code",
   "execution_count": 3,
   "metadata": {},
   "outputs": [
    {
     "name": "stdout",
     "output_type": "stream",
     "text": [
      "Enter a number: 45\n",
      "Enter a number: 60\n",
      "LCM is 180\n"
     ]
    }
   ],
   "source": [
    "#Write a Python Program to Find LCM?\n",
    "x = int(input(\"Enter a number: \"))\n",
    "y = int(input(\"Enter a number: \"))\n",
    "if x>y:\n",
    "    a = x\n",
    "else :\n",
    "    a = y\n",
    "l=[]    \n",
    "for i in range(2,a):\n",
    "    for j in range(i):\n",
    "        if x * i ==  y * j:\n",
    "            t=int(x*i)\n",
    "            l.append(t)\n",
    "print(\"LCM is\",min(l))            "
   ]
  },
  {
   "cell_type": "code",
   "execution_count": 6,
   "metadata": {},
   "outputs": [
    {
     "name": "stdout",
     "output_type": "stream",
     "text": [
      "Enter a number: 200\n",
      "Enter a number: 240\n",
      "40\n"
     ]
    }
   ],
   "source": [
    "#Write a Python Program to Find HCF?\n",
    "x = int(input(\"Enter a number: \"))\n",
    "y = int(input(\"Enter a number: \"))\n",
    "if x >y:\n",
    "    a = x\n",
    "else :\n",
    "    a = y\n",
    "l=[]    \n",
    "for i in range(2,a):\n",
    "    if x % i == 0 and  y % i ==0 :\n",
    "        g=int(i)\n",
    "        l.append(g)\n",
    "print(max(l))"
   ]
  },
  {
   "cell_type": "code",
   "execution_count": 22,
   "metadata": {},
   "outputs": [
    {
     "name": "stdout",
     "output_type": "stream",
     "text": [
      "Enter number:54\n",
      "110110"
     ]
    }
   ],
   "source": [
    "#Write a Python Program to Convert Decimal to Binary, Octal and Hexadecimal?\n",
    "#decimal to binary\n",
    "a=int(input(\"Enter number:\"))\n",
    "c=[]\n",
    "while a>0:\n",
    "    b=a%2\n",
    "    c.append(b)\n",
    "    a=a//2\n",
    "c=c[::-1]    \n",
    "for i in c:\n",
    "    print(i,end=\"\")\n"
   ]
  },
  {
   "cell_type": "code",
   "execution_count": 18,
   "metadata": {},
   "outputs": [
    {
     "name": "stdout",
     "output_type": "stream",
     "text": [
      "Enter number:54\n",
      "[6, 6]\n",
      "66"
     ]
    }
   ],
   "source": [
    "#decimal to octal\n",
    "a=int(input(\"Enter number:\"))\n",
    "c=[]\n",
    "while a>0:\n",
    "    b=a%8\n",
    "    c.append(b)\n",
    "    a=a//8    \n",
    "c=c[::-1]\n",
    "for i in c:\n",
    "    print(i,end=\"\")\n"
   ]
  },
  {
   "cell_type": "code",
   "execution_count": 19,
   "metadata": {},
   "outputs": [
    {
     "name": "stdout",
     "output_type": "stream",
     "text": [
      "Enter number:54\n",
      "36"
     ]
    }
   ],
   "source": [
    "#decimal to hexadecimal\n",
    "a=int(input(\"Enter number:\"))\n",
    "c=[]\n",
    "while a>0:\n",
    "    b=a%16\n",
    "    c.append(b)\n",
    "    a=a//16\n",
    "c=c[::-1]    \n",
    "for i in c:\n",
    "    print(i,end=\"\")"
   ]
  },
  {
   "cell_type": "code",
   "execution_count": 24,
   "metadata": {},
   "outputs": [
    {
     "name": "stdout",
     "output_type": "stream",
     "text": [
      "Enter character:r\n",
      "114\n"
     ]
    }
   ],
   "source": [
    "#Write a Python Program To Find ASCII value of a character?\n",
    "c=input(\"Enter character:\")\n",
    "print(ord(c))"
   ]
  },
  {
   "cell_type": "code",
   "execution_count": 4,
   "metadata": {},
   "outputs": [
    {
     "name": "stdout",
     "output_type": "stream",
     "text": [
      "choose:(+,-,*,/):*\n",
      "Enter number:3\n",
      "Enter number:4\n",
      "12\n"
     ]
    }
   ],
   "source": [
    "#Write a Python Program to Make a Simple Calculator with 4 basic mathematical operations?\n",
    "x=input('choose:(+,-,*,/):')\n",
    "a=int(input('Enter number:'))\n",
    "b=int(input('Enter number:'))\n",
    "if x==\"+\":\n",
    "    print(a+b)\n",
    "elif x==\"-\":\n",
    "    print(a-b)\n",
    "elif x==\"*\":\n",
    "    print(a*b)\n",
    "else:\n",
    "    print(a/b)\n",
    " \n",
    "\n"
   ]
  },
  {
   "cell_type": "code",
   "execution_count": null,
   "metadata": {},
   "outputs": [],
   "source": []
  },
  {
   "cell_type": "code",
   "execution_count": null,
   "metadata": {},
   "outputs": [],
   "source": []
  }
 ],
 "metadata": {
  "kernelspec": {
   "display_name": "Python 3",
   "language": "python",
   "name": "python3"
  },
  "language_info": {
   "codemirror_mode": {
    "name": "ipython",
    "version": 3
   },
   "file_extension": ".py",
   "mimetype": "text/x-python",
   "name": "python",
   "nbconvert_exporter": "python",
   "pygments_lexer": "ipython3",
   "version": "3.8.5"
  }
 },
 "nbformat": 4,
 "nbformat_minor": 4
}
